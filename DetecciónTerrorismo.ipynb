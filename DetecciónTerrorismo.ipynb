{
 "cells": [
  {
   "cell_type": "markdown",
   "metadata": {
    "id": "2GRQnxMzISE_"
   },
   "source": []
  },
  {
   "cell_type": "markdown",
   "metadata": {},
   "source": [
    "# Modelo para detección tweets terroristas"
   ]
  },
  {
   "cell_type": "markdown",
   "metadata": {},
   "source": [
    "Durante este notebook mostrarenos los pasos implementados durante la creación del modelo y algunos análisis implementados durante la creación de este. Lo primero que realizaremos será el cargue de las librerias de python necesarias para la creación de nuestro modelo"
   ]
  },
  {
   "cell_type": "code",
   "execution_count": 1,
   "metadata": {
    "id": "x1GFwraSISFB",
    "scrolled": true
   },
   "outputs": [
    {
     "name": "stderr",
     "output_type": "stream",
     "text": [
      "[nltk_data] Downloading package punkt to\n",
      "[nltk_data]     C:\\Users\\User\\AppData\\Roaming\\nltk_data...\n",
      "[nltk_data]   Package punkt is already up-to-date!\n",
      "[nltk_data] Downloading package stopwords to\n",
      "[nltk_data]     C:\\Users\\User\\AppData\\Roaming\\nltk_data...\n",
      "[nltk_data]   Package stopwords is already up-to-date!\n"
     ]
    },
    {
     "data": {
      "text/plain": [
       "True"
      ]
     },
     "execution_count": 1,
     "metadata": {},
     "output_type": "execute_result"
    }
   ],
   "source": [
    "import pandas as pd\n",
    "import numpy as np\n",
    "import matplotlib.pyplot as plt\n",
    "import seaborn as sns\n",
    "sns.set()\n",
    "from sklearn.metrics import f1_score\n",
    "from sklearn.ensemble import RandomForestRegressor\n",
    "from sklearn.metrics import confusion_matrix\n",
    "from sklearn.svm import SVR\n",
    "from sklearn.svm import LinearSVC\n",
    "from sklearn.model_selection import train_test_split\n",
    "from sklearn.ensemble import RandomForestClassifier\n",
    "from sklearn.naive_bayes import GaussianNB\n",
    "from sklearn.metrics import mean_absolute_error\n",
    "from sklearn.model_selection import RandomizedSearchCV\n",
    "from sklearn import metrics\n",
    "import nltk\n",
    "\n",
    "#Esto sirve para configurar NLTK. La primera vez puede tardar un poco\n",
    "nltk.download('punkt')\n",
    "nltk.download('stopwords')"
   ]
  },
  {
   "cell_type": "code",
   "execution_count": 2,
   "metadata": {},
   "outputs": [
    {
     "data": {
      "text/html": [
       "<div>\n",
       "<style scoped>\n",
       "    .dataframe tbody tr th:only-of-type {\n",
       "        vertical-align: middle;\n",
       "    }\n",
       "\n",
       "    .dataframe tbody tr th {\n",
       "        vertical-align: top;\n",
       "    }\n",
       "\n",
       "    .dataframe thead th {\n",
       "        text-align: right;\n",
       "    }\n",
       "</style>\n",
       "<table border=\"1\" class=\"dataframe\">\n",
       "  <thead>\n",
       "    <tr style=\"text-align: right;\">\n",
       "      <th></th>\n",
       "      <th>Tweet</th>\n",
       "      <th>Class</th>\n",
       "    </tr>\n",
       "  </thead>\n",
       "  <tbody>\n",
       "    <tr>\n",
       "      <th>0</th>\n",
       "      <td>PT announced his death. In current tweet shows his pic when he was in life in this world. #Iraq SWAT hi rank figure https://twitter.com/account/su...</td>\n",
       "      <td>1</td>\n",
       "    </tr>\n",
       "    <tr>\n",
       "      <th>1</th>\n",
       "      <td>The Muslim Brotherhood of #Iraq condemns the killing of Shiite militias leaders in #Diyala by the Islamic State: https://twitter.com/account/suspe...</td>\n",
       "      <td>1</td>\n",
       "    </tr>\n",
       "    <tr>\n",
       "      <th>2</th>\n",
       "      <td>RT @TedNugent: Gun control talks with gunrunning Eric Holder on board. We r the planet of the apes</td>\n",
       "      <td>0</td>\n",
       "    </tr>\n",
       "    <tr>\n",
       "      <th>3</th>\n",
       "      <td>Come home from work to Bridesmaids, Twinkies and a bottle of wine #bestroommateever @TheFaithAnne</td>\n",
       "      <td>0</td>\n",
       "    </tr>\n",
       "    <tr>\n",
       "      <th>4</th>\n",
       "      <td>RT @Ghostmanzzz: #Breaking #US airstrikes rocked #ISIS ideological Important \"#Dabiq\" Moments ago in North #Aleppo.</td>\n",
       "      <td>1</td>\n",
       "    </tr>\n",
       "  </tbody>\n",
       "</table>\n",
       "</div>"
      ],
      "text/plain": [
       "                                                                                                                                                   Tweet  \\\n",
       "0  PT announced his death. In current tweet shows his pic when he was in life in this world. #Iraq SWAT hi rank figure https://twitter.com/account/su...   \n",
       "1  The Muslim Brotherhood of #Iraq condemns the killing of Shiite militias leaders in #Diyala by the Islamic State: https://twitter.com/account/suspe...   \n",
       "2                                                     RT @TedNugent: Gun control talks with gunrunning Eric Holder on board. We r the planet of the apes   \n",
       "3                                                      Come home from work to Bridesmaids, Twinkies and a bottle of wine #bestroommateever @TheFaithAnne   \n",
       "4                                    RT @Ghostmanzzz: #Breaking #US airstrikes rocked #ISIS ideological Important \"#Dabiq\" Moments ago in North #Aleppo.   \n",
       "\n",
       "   Class  \n",
       "0      1  \n",
       "1      1  \n",
       "2      0  \n",
       "3      0  \n",
       "4      1  "
      ]
     },
     "execution_count": 2,
     "metadata": {},
     "output_type": "execute_result"
    }
   ],
   "source": [
    "dataset = pd.read_excel(r'C:\\Users\\User\\Desktop\\UNIR\\Ciberseguridad\\Trabajo Fin master\\data\\Dataset.xlsx')\n",
    "pd.set_option('max_colwidth', 150)\n",
    "dataset.head()"
   ]
  },
  {
   "cell_type": "code",
   "execution_count": 3,
   "metadata": {},
   "outputs": [
    {
     "data": {
      "text/plain": [
       "(10530, 2)"
      ]
     },
     "execution_count": 3,
     "metadata": {},
     "output_type": "execute_result"
    }
   ],
   "source": [
    "#Vemos el tamaño del dataset\n",
    "dataset.shape"
   ]
  },
  {
   "cell_type": "markdown",
   "metadata": {},
   "source": [
    "El dataset está conformado por dos columnas, la primera \"tweet\" con el comentario en cuestión y la segunda \"class\" que hace referencia al tipo de comentario a partir de la clasificación que se realizó sinendo \"1\" un comentario con posible contenido extremista y \"0\" comentario sin contenido extremista. Lo primero que queremos ver del dataset es si existe algún tipo de sesgo en la data, pero de la gráfica podemos ver que está perfectamente equilibrada la cantidad de datos por clasificación ya que tienen la misma cantidad de registros."
   ]
  },
  {
   "cell_type": "code",
   "execution_count": 4,
   "metadata": {},
   "outputs": [
    {
     "data": {
      "image/png": "[encoded data removed]",
      "text/plain": [
       "<Figure size 432x288 with 1 Axes>"
      ]
     },
     "metadata": {},
     "output_type": "display_data"
    }
   ],
   "source": [
    "sns.countplot(data = dataset , x='Class')\n",
    "plt.show()"
   ]
  },
  {
   "cell_type": "markdown",
   "metadata": {},
   "source": [
    "#### Preparación del dasaet para llevarlo al modelo"
   ]
  },
  {
   "cell_type": "markdown",
   "metadata": {},
   "source": [
    "Para el entrenamiento de nuestro modelo tomaremos solamente las columnas review body,review title y la columna stars"
   ]
  },
  {
   "cell_type": "code",
   "execution_count": 5,
   "metadata": {},
   "outputs": [
    {
     "data": {
      "text/html": [
       "<div>\n",
       "<style scoped>\n",
       "    .dataframe tbody tr th:only-of-type {\n",
       "        vertical-align: middle;\n",
       "    }\n",
       "\n",
       "    .dataframe tbody tr th {\n",
       "        vertical-align: top;\n",
       "    }\n",
       "\n",
       "    .dataframe thead th {\n",
       "        text-align: right;\n",
       "    }\n",
       "</style>\n",
       "<table border=\"1\" class=\"dataframe\">\n",
       "  <thead>\n",
       "    <tr style=\"text-align: right;\">\n",
       "      <th></th>\n",
       "      <th>Tweet</th>\n",
       "      <th>Class</th>\n",
       "    </tr>\n",
       "  </thead>\n",
       "  <tbody>\n",
       "    <tr>\n",
       "      <th>0</th>\n",
       "      <td>PT announced his death. In current tweet shows his pic when he was in life in this world. #Iraq SWAT hi rank figure https://twitter.com/account/su...</td>\n",
       "      <td>1</td>\n",
       "    </tr>\n",
       "    <tr>\n",
       "      <th>1</th>\n",
       "      <td>The Muslim Brotherhood of #Iraq condemns the killing of Shiite militias leaders in #Diyala by the Islamic State: https://twitter.com/account/suspe...</td>\n",
       "      <td>1</td>\n",
       "    </tr>\n",
       "    <tr>\n",
       "      <th>2</th>\n",
       "      <td>RT @TedNugent: Gun control talks with gunrunning Eric Holder on board. We r the planet of the apes</td>\n",
       "      <td>0</td>\n",
       "    </tr>\n",
       "    <tr>\n",
       "      <th>3</th>\n",
       "      <td>Come home from work to Bridesmaids, Twinkies and a bottle of wine #bestroommateever @TheFaithAnne</td>\n",
       "      <td>0</td>\n",
       "    </tr>\n",
       "    <tr>\n",
       "      <th>4</th>\n",
       "      <td>RT @Ghostmanzzz: #Breaking #US airstrikes rocked #ISIS ideological Important \"#Dabiq\" Moments ago in North #Aleppo.</td>\n",
       "      <td>1</td>\n",
       "    </tr>\n",
       "  </tbody>\n",
       "</table>\n",
       "</div>"
      ],
      "text/plain": [
       "                                                                                                                                                   Tweet  \\\n",
       "0  PT announced his death. In current tweet shows his pic when he was in life in this world. #Iraq SWAT hi rank figure https://twitter.com/account/su...   \n",
       "1  The Muslim Brotherhood of #Iraq condemns the killing of Shiite militias leaders in #Diyala by the Islamic State: https://twitter.com/account/suspe...   \n",
       "2                                                     RT @TedNugent: Gun control talks with gunrunning Eric Holder on board. We r the planet of the apes   \n",
       "3                                                      Come home from work to Bridesmaids, Twinkies and a bottle of wine #bestroommateever @TheFaithAnne   \n",
       "4                                    RT @Ghostmanzzz: #Breaking #US airstrikes rocked #ISIS ideological Important \"#Dabiq\" Moments ago in North #Aleppo.   \n",
       "\n",
       "   Class  \n",
       "0      1  \n",
       "1      1  \n",
       "2      0  \n",
       "3      0  \n",
       "4      1  "
      ]
     },
     "execution_count": 5,
     "metadata": {},
     "output_type": "execute_result"
    }
   ],
   "source": [
    "#Eliminamos registro vacíos\n",
    "dataset.dropna(axis=0,inplace=True)  # Si hay alguna nan, tiramos esa instancia\n",
    "dataset.head()"
   ]
  },
  {
   "cell_type": "markdown",
   "metadata": {},
   "source": [
    "Creamos una columna nueva que es la concatenación entre reviewbody y review title para así tener una columna con más información."
   ]
  },
  {
   "cell_type": "code",
   "execution_count": 6,
   "metadata": {},
   "outputs": [
    {
     "name": "stdout",
     "output_type": "stream",
     "text": [
      "['i', 'me', 'my', 'myself', 'we', 'our', 'ours', 'ourselves', 'you', \"you're\", \"you've\", \"you'll\", \"you'd\", 'your', 'yours', 'yourself', 'yourselves', 'he', 'him', 'his', 'himself', 'she', \"she's\", 'her', 'hers', 'herself', 'it', \"it's\", 'its', 'itself', 'they', 'them', 'their', 'theirs', 'themselves', 'what', 'which', 'who', 'whom', 'this', 'that', \"that'll\", 'these', 'those', 'am', 'is', 'are', 'was', 'were', 'be', 'been', 'being', 'have', 'has', 'had', 'having', 'do', 'does', 'did', 'doing', 'a', 'an', 'the', 'and', 'but', 'if', 'or', 'because', 'as', 'until', 'while', 'of', 'at', 'by', 'for', 'with', 'about', 'against', 'between', 'into', 'through', 'during', 'before', 'after', 'above', 'below', 'to', 'from', 'up', 'down', 'in', 'out', 'on', 'off', 'over', 'under', 'again', 'further', 'then', 'once', 'here', 'there', 'when', 'where', 'why', 'how', 'all', 'any', 'both', 'each', 'few', 'more', 'most', 'other', 'some', 'such', 'no', 'nor', 'not', 'only', 'own', 'same', 'so', 'than', 'too', 'very', 's', 't', 'can', 'will', 'just', 'don', \"don't\", 'should', \"should've\", 'now', 'd', 'll', 'm', 'o', 're', 've', 'y', 'ain', 'aren', \"aren't\", 'couldn', \"couldn't\", 'didn', \"didn't\", 'doesn', \"doesn't\", 'hadn', \"hadn't\", 'hasn', \"hasn't\", 'haven', \"haven't\", 'isn', \"isn't\", 'ma', 'mightn', \"mightn't\", 'mustn', \"mustn't\", 'needn', \"needn't\", 'shan', \"shan't\", 'shouldn', \"shouldn't\", 'wasn', \"wasn't\", 'weren', \"weren't\", 'won', \"won't\", 'wouldn', \"wouldn't\"]\n"
     ]
    }
   ],
   "source": [
    "#Cargamos los stopwprds en español\n",
    "stopwords = nltk.corpus.stopwords.words('english')\n",
    "print(stopwords)"
   ]
  },
  {
   "cell_type": "code",
   "execution_count": 7,
   "metadata": {},
   "outputs": [
    {
     "data": {
      "text/html": [
       "<div>\n",
       "<style scoped>\n",
       "    .dataframe tbody tr th:only-of-type {\n",
       "        vertical-align: middle;\n",
       "    }\n",
       "\n",
       "    .dataframe tbody tr th {\n",
       "        vertical-align: top;\n",
       "    }\n",
       "\n",
       "    .dataframe thead th {\n",
       "        text-align: right;\n",
       "    }\n",
       "</style>\n",
       "<table border=\"1\" class=\"dataframe\">\n",
       "  <thead>\n",
       "    <tr style=\"text-align: right;\">\n",
       "      <th></th>\n",
       "      <th>Tweet</th>\n",
       "      <th>Class</th>\n",
       "    </tr>\n",
       "  </thead>\n",
       "  <tbody>\n",
       "    <tr>\n",
       "      <th>0</th>\n",
       "      <td>PT announced his death. In current tweet shows his pic when he was in life in this world. #Iraq SWAT hi rank figure https://twitter.com/account/su...</td>\n",
       "      <td>1</td>\n",
       "    </tr>\n",
       "    <tr>\n",
       "      <th>1</th>\n",
       "      <td>The Muslim Brotherhood of #Iraq condemns the killing of Shiite militias leaders in #Diyala by the Islamic State: https://twitter.com/account/suspe...</td>\n",
       "      <td>1</td>\n",
       "    </tr>\n",
       "    <tr>\n",
       "      <th>2</th>\n",
       "      <td>RT @TedNugent: Gun control talks with gunrunning Eric Holder on board. We r the planet of the apes</td>\n",
       "      <td>0</td>\n",
       "    </tr>\n",
       "    <tr>\n",
       "      <th>3</th>\n",
       "      <td>Come home from work to Bridesmaids, Twinkies and a bottle of wine #bestroommateever @TheFaithAnne</td>\n",
       "      <td>0</td>\n",
       "    </tr>\n",
       "    <tr>\n",
       "      <th>4</th>\n",
       "      <td>RT @Ghostmanzzz: #Breaking #US airstrikes rocked #ISIS ideological Important \"#Dabiq\" Moments ago in North #Aleppo.</td>\n",
       "      <td>1</td>\n",
       "    </tr>\n",
       "    <tr>\n",
       "      <th>5</th>\n",
       "      <td>Boys and girls, before the censorship bans it's been lovely talking to the  and dodging all the  nonsense the left has thrown out.  Vote in Novemb...</td>\n",
       "      <td>0</td>\n",
       "    </tr>\n",
       "    <tr>\n",
       "      <th>6</th>\n",
       "      <td>@jesslaw Ha! I'm actually going to see a Yankee game, as weird as it sounds. My uncle's house in NJ is an hour away.</td>\n",
       "      <td>0</td>\n",
       "    </tr>\n",
       "    <tr>\n",
       "      <th>7</th>\n",
       "      <td>Why is that when you have time off from work you get sick?</td>\n",
       "      <td>0</td>\n",
       "    </tr>\n",
       "    <tr>\n",
       "      <th>8</th>\n",
       "      <td>2. The Islamic State severely punishes those who systematically and routinely perform chain Takfir upon Muslims.</td>\n",
       "      <td>1</td>\n",
       "    </tr>\n",
       "    <tr>\n",
       "      <th>9</th>\n",
       "      <td>RT @karen_gonski: i wish i was one of those girls who guys liked no matter what...ike i could wear sweats and my hair up and they would sti&amp;#8230;</td>\n",
       "      <td>0</td>\n",
       "    </tr>\n",
       "  </tbody>\n",
       "</table>\n",
       "</div>"
      ],
      "text/plain": [
       "                                                                                                                                                   Tweet  \\\n",
       "0  PT announced his death. In current tweet shows his pic when he was in life in this world. #Iraq SWAT hi rank figure https://twitter.com/account/su...   \n",
       "1  The Muslim Brotherhood of #Iraq condemns the killing of Shiite militias leaders in #Diyala by the Islamic State: https://twitter.com/account/suspe...   \n",
       "2                                                     RT @TedNugent: Gun control talks with gunrunning Eric Holder on board. We r the planet of the apes   \n",
       "3                                                      Come home from work to Bridesmaids, Twinkies and a bottle of wine #bestroommateever @TheFaithAnne   \n",
       "4                                    RT @Ghostmanzzz: #Breaking #US airstrikes rocked #ISIS ideological Important \"#Dabiq\" Moments ago in North #Aleppo.   \n",
       "5  Boys and girls, before the censorship bans it's been lovely talking to the  and dodging all the  nonsense the left has thrown out.  Vote in Novemb...   \n",
       "6                                   @jesslaw Ha! I'm actually going to see a Yankee game, as weird as it sounds. My uncle's house in NJ is an hour away.   \n",
       "7                                                                                            Why is that when you have time off from work you get sick?    \n",
       "8                                       2. The Islamic State severely punishes those who systematically and routinely perform chain Takfir upon Muslims.   \n",
       "9     RT @karen_gonski: i wish i was one of those girls who guys liked no matter what...ike i could wear sweats and my hair up and they would sti&#8230;   \n",
       "\n",
       "   Class  \n",
       "0      1  \n",
       "1      1  \n",
       "2      0  \n",
       "3      0  \n",
       "4      1  \n",
       "5      0  \n",
       "6      0  \n",
       "7      0  \n",
       "8      1  \n",
       "9      0  "
      ]
     },
     "execution_count": 7,
     "metadata": {},
     "output_type": "execute_result"
    }
   ],
   "source": [
    "# Importamos esta libreria que nos permite reemplzar caracteres y aplicar expresiones regulares\n",
    "import re\n",
    "# Importamos y definimos la función que nos permite Stemmizar de nltk y definimos el stemmer\n",
    "from nltk.stem import SnowballStemmer\n",
    "stemmer = SnowballStemmer('english')\n",
    "dataset[\"Tweet\"].head(10)\n",
    "dataset.head(10)"
   ]
  },
  {
   "cell_type": "code",
   "execution_count": 8,
   "metadata": {},
   "outputs": [
    {
     "name": "stdout",
     "output_type": "stream",
     "text": [
      "['pt announc death current tweet show pic life world swat hi rank figur', 'muslim brotherhood condemn kill shiit militia leader islam state', 'rt gun control talk gunrun eric holder board r planet ape', 'come home work bridesmaid twinki bottl wine', 'rt airstrik rock ideolog import moment ago north', 'boy girl censorship ban love talk dodg nonsens left thrown vote novemb although voic may silenc stand', 'ha actual go see yanke game weird sound uncl hous nj hour away', 'time work get sick', 'islam state sever punish systemat routin perform chain takfir upon muslim', 'rt wish one girl guy like matter ike could wear sweat hair would sti']\n"
     ]
    }
   ],
   "source": [
    "# Importamos esta libreria que nos permite reemplzar caracteres y aplicar expresiones regulares\n",
    "import re\n",
    "# Importamos y definimos la función que nos permite Stemmizar de nltk y definimos el stemmer\n",
    "from nltk.stem import SnowballStemmer\n",
    "stemmer = SnowballStemmer('english')\n",
    "# Recorremos los reviews y le vamos aplicando la Normalizacion y luega el Stemming a cada uno\n",
    "review_list=[]\n",
    "for review in dataset.Tweet:\n",
    "     # Pasamos todo a minúsculas\n",
    "    review=review.lower()\n",
    "    # Filtrado de menciones de otros perfiles\n",
    "    review=re.sub('(?:((?<=[\\s\\W])|^)[#](\\w+|[^#]|$)|((?<=[\\s\\W])|^)[@]([a-zA-Z0-9_]+|$))', '',str(review)) \n",
    "    review=re.sub(r'\\w+:\\/{2}[\\d\\w-]+(\\.[\\d\\w-]+)*(?:(?:\\/[^\\s/]*))*', '',str(review)) #Filtrado de enlaces\n",
    "    revire=re.sub('\\s{2}.*', '',str(review)) # filtrado de espacioes en blanco\n",
    "    review=re.sub(\"[^a-z]\",\" \",str(review)) #Filtrado de caracteres especiales\n",
    "    # Tokenizamos para separar las palabras del titular\n",
    "    review=nltk.word_tokenize(review)\n",
    "    # Sacamos las Stopwords\n",
    "    review = [palabra for palabra in review if not palabra in stopwords]\n",
    "    ReviewSinStemmer= review\n",
    "    ## Hasta acá Normalizamos, ahora a stemmizar\n",
    "    # Aplicamos la funcion para buscar la raiz de las palabras\n",
    "    review=[(stemmer.stem(palabra)) for palabra in review]\n",
    "    # Por ultimo volvemos a unir el tweet\n",
    "    review=\" \".join(review)\n",
    "    ReviewSinStemmer= \" \".join(ReviewSinStemmer) \n",
    "    # Vamos armando una lista con todos los titulares\n",
    "    review_list.append(review)\n",
    "print(review_list[:10])\n",
    "    #print(review)\n",
    "    #review=[palabra for palabra in review]\n",
    "        # Eliminamos las palabras de menos de 2 letras\n",
    "  # review = [palabra for palabra in review if len(palabra)>2]"
   ]
  },
  {
   "cell_type": "markdown",
   "metadata": {},
   "source": [
    " Durante el proceso de aplicar el stemmer se observó diferencias grandes entre los review sin stmmer y con stemmer al principio se pensó que estas diferencias significativas eran debido a un error pero luego de hacer la respectiva revisión de la librería del stemmer en español se encontró que internamente hace una especie de obtención de la raíz de la palabra pero de una forma no cotidiana en español, la librería tiene su propio diccionario para realizar esta operación. Comparto el enlace dónde se observó dichas diferencias http://snowball.tartarus.org/algorithms/spanish/diffs.txt\n"
   ]
  },
  {
   "cell_type": "code",
   "execution_count": 9,
   "metadata": {},
   "outputs": [
    {
     "name": "stdout",
     "output_type": "stream",
     "text": [
      "Sin Stemmer:  personnel killed storming barracks outskirts ad dulab region\n",
      "Con Stemmer:  personnel kill storm barrack outskirt ad dulab region\n",
      "['laat meet uzzah plot islam']\n"
     ]
    }
   ],
   "source": [
    "#diferencias entre los review con sttemer y sin setmmer\n",
    "print(\"Sin Stemmer: \",ReviewSinStemmer)\n",
    "print(\"Con Stemmer: \",review)\n",
    "print(review_list[2093:2094])"
   ]
  },
  {
   "cell_type": "code",
   "execution_count": 10,
   "metadata": {},
   "outputs": [
    {
     "data": {
      "text/html": [
       "<div>\n",
       "<style scoped>\n",
       "    .dataframe tbody tr th:only-of-type {\n",
       "        vertical-align: middle;\n",
       "    }\n",
       "\n",
       "    .dataframe tbody tr th {\n",
       "        vertical-align: top;\n",
       "    }\n",
       "\n",
       "    .dataframe thead th {\n",
       "        text-align: right;\n",
       "    }\n",
       "</style>\n",
       "<table border=\"1\" class=\"dataframe\">\n",
       "  <thead>\n",
       "    <tr style=\"text-align: right;\">\n",
       "      <th></th>\n",
       "      <th>Tweet</th>\n",
       "      <th>Class</th>\n",
       "      <th>review_stem</th>\n",
       "    </tr>\n",
       "  </thead>\n",
       "  <tbody>\n",
       "    <tr>\n",
       "      <th>10525</th>\n",
       "      <td>My Hawaiian thought of the day, No Aloha for muzzie pigs, EVER!</td>\n",
       "      <td>0</td>\n",
       "      <td>hawaiian thought day aloha muzzi pig ever</td>\n",
       "    </tr>\n",
       "    <tr>\n",
       "      <th>10526</th>\n",
       "      <td>@ImtiyazAzhar From what I understand having spoken to ISIS supporters, Abdullah Faisal is not an ISIS representative scholar.</td>\n",
       "      <td>1</td>\n",
       "      <td>understand spoken isi support abdullah faisal isi repres scholar</td>\n",
       "    </tr>\n",
       "    <tr>\n",
       "      <th>10527</th>\n",
       "      <td>@AstrosCounty Jeff Luhnow is to blame for the Astros not blowing out the Red Sox and Yankees -HC</td>\n",
       "      <td>0</td>\n",
       "      <td>jeff luhnow blame astro blow red sox yanke hc</td>\n",
       "    </tr>\n",
       "    <tr>\n",
       "      <th>10528</th>\n",
       "      <td>@Dalatrm Pigs</td>\n",
       "      <td>0</td>\n",
       "      <td>pig</td>\n",
       "    </tr>\n",
       "    <tr>\n",
       "      <th>10529</th>\n",
       "      <td>#WilayatAlAnbar 15 #Rafida_army’s personnel killed after storming their barracks at the outskirts of Ad-Dulab region https://justpaste.it/u027</td>\n",
       "      <td>1</td>\n",
       "      <td>personnel kill storm barrack outskirt ad dulab region</td>\n",
       "    </tr>\n",
       "  </tbody>\n",
       "</table>\n",
       "</div>"
      ],
      "text/plain": [
       "                                                                                                                                                Tweet  \\\n",
       "10525                                                                                 My Hawaiian thought of the day, No Aloha for muzzie pigs, EVER!   \n",
       "10526                   @ImtiyazAzhar From what I understand having spoken to ISIS supporters, Abdullah Faisal is not an ISIS representative scholar.   \n",
       "10527                                                @AstrosCounty Jeff Luhnow is to blame for the Astros not blowing out the Red Sox and Yankees -HC   \n",
       "10528                                                                                                                                   @Dalatrm Pigs   \n",
       "10529  #WilayatAlAnbar 15 #Rafida_army’s personnel killed after storming their barracks at the outskirts of Ad-Dulab region https://justpaste.it/u027   \n",
       "\n",
       "       Class                                                       review_stem  \n",
       "10525      0                         hawaiian thought day aloha muzzi pig ever  \n",
       "10526      1  understand spoken isi support abdullah faisal isi repres scholar  \n",
       "10527      0                     jeff luhnow blame astro blow red sox yanke hc  \n",
       "10528      0                                                               pig  \n",
       "10529      1             personnel kill storm barrack outskirt ad dulab region  "
      ]
     },
     "execution_count": 10,
     "metadata": {},
     "output_type": "execute_result"
    }
   ],
   "source": [
    "#columna nueva con la stematización\n",
    "dataset[\"review_stem\"] = review_list\n",
    "dataset.tail()"
   ]
  },
  {
   "cell_type": "code",
   "execution_count": 11,
   "metadata": {},
   "outputs": [
    {
     "name": "stdout",
     "output_type": "stream",
     "text": [
      "0        pt announc death current tweet show pic life world swat hi rank figur\n",
      "1             muslim brotherhood condemn kill shiit militia leader islam state\n",
      "2                    rt gun control talk gunrun eric holder board r planet ape\n",
      "3                                  come home work bridesmaid twinki bottl wine\n",
      "4                             rt airstrik rock ideolog import moment ago north\n",
      "                                         ...                                  \n",
      "10525                                hawaiian thought day aloha muzzi pig ever\n",
      "10526         understand spoken isi support abdullah faisal isi repres scholar\n",
      "10527                            jeff luhnow blame astro blow red sox yanke hc\n",
      "10528                                                                      pig\n",
      "10529                    personnel kill storm barrack outskirt ad dulab region\n",
      "Name: review_stem, Length: 10452, dtype: object\n",
      "(10452, 3)\n"
     ]
    },
    {
     "data": {
      "text/html": [
       "<div>\n",
       "<style scoped>\n",
       "    .dataframe tbody tr th:only-of-type {\n",
       "        vertical-align: middle;\n",
       "    }\n",
       "\n",
       "    .dataframe tbody tr th {\n",
       "        vertical-align: top;\n",
       "    }\n",
       "\n",
       "    .dataframe thead th {\n",
       "        text-align: right;\n",
       "    }\n",
       "</style>\n",
       "<table border=\"1\" class=\"dataframe\">\n",
       "  <thead>\n",
       "    <tr style=\"text-align: right;\">\n",
       "      <th></th>\n",
       "      <th>Tweet</th>\n",
       "      <th>Class</th>\n",
       "      <th>review_stem</th>\n",
       "    </tr>\n",
       "  </thead>\n",
       "  <tbody>\n",
       "    <tr>\n",
       "      <th>10525</th>\n",
       "      <td>My Hawaiian thought of the day, No Aloha for muzzie pigs, EVER!</td>\n",
       "      <td>0</td>\n",
       "      <td>hawaiian thought day aloha muzzi pig ever</td>\n",
       "    </tr>\n",
       "    <tr>\n",
       "      <th>10526</th>\n",
       "      <td>@ImtiyazAzhar From what I understand having spoken to ISIS supporters, Abdullah Faisal is not an ISIS representative scholar.</td>\n",
       "      <td>1</td>\n",
       "      <td>understand spoken isi support abdullah faisal isi repres scholar</td>\n",
       "    </tr>\n",
       "    <tr>\n",
       "      <th>10527</th>\n",
       "      <td>@AstrosCounty Jeff Luhnow is to blame for the Astros not blowing out the Red Sox and Yankees -HC</td>\n",
       "      <td>0</td>\n",
       "      <td>jeff luhnow blame astro blow red sox yanke hc</td>\n",
       "    </tr>\n",
       "    <tr>\n",
       "      <th>10528</th>\n",
       "      <td>@Dalatrm Pigs</td>\n",
       "      <td>0</td>\n",
       "      <td>pig</td>\n",
       "    </tr>\n",
       "    <tr>\n",
       "      <th>10529</th>\n",
       "      <td>#WilayatAlAnbar 15 #Rafida_army’s personnel killed after storming their barracks at the outskirts of Ad-Dulab region https://justpaste.it/u027</td>\n",
       "      <td>1</td>\n",
       "      <td>personnel kill storm barrack outskirt ad dulab region</td>\n",
       "    </tr>\n",
       "  </tbody>\n",
       "</table>\n",
       "</div>"
      ],
      "text/plain": [
       "                                                                                                                                                Tweet  \\\n",
       "10525                                                                                 My Hawaiian thought of the day, No Aloha for muzzie pigs, EVER!   \n",
       "10526                   @ImtiyazAzhar From what I understand having spoken to ISIS supporters, Abdullah Faisal is not an ISIS representative scholar.   \n",
       "10527                                                @AstrosCounty Jeff Luhnow is to blame for the Astros not blowing out the Red Sox and Yankees -HC   \n",
       "10528                                                                                                                                   @Dalatrm Pigs   \n",
       "10529  #WilayatAlAnbar 15 #Rafida_army’s personnel killed after storming their barracks at the outskirts of Ad-Dulab region https://justpaste.it/u027   \n",
       "\n",
       "       Class                                                       review_stem  \n",
       "10525      0                         hawaiian thought day aloha muzzi pig ever  \n",
       "10526      1  understand spoken isi support abdullah faisal isi repres scholar  \n",
       "10527      0                     jeff luhnow blame astro blow red sox yanke hc  \n",
       "10528      0                                                               pig  \n",
       "10529      1             personnel kill storm barrack outskirt ad dulab region  "
      ]
     },
     "execution_count": 11,
     "metadata": {},
     "output_type": "execute_result"
    }
   ],
   "source": [
    "Filtro= dataset['review_stem']!=\"\"\n",
    "dataset= dataset[Filtro]\n",
    "dataset.dropna(axis=0,inplace=True)  # Si hay alguna nan, tiramos esa instancia\n",
    "print (dataset['review_stem'])\n",
    "print(dataset.shape)\n",
    "dataset.tail()"
   ]
  },
  {
   "cell_type": "code",
   "execution_count": 12,
   "metadata": {},
   "outputs": [],
   "source": [
    "#Conversión a lista de la columna stematizada\n",
    "list_review_stem = list(dataset['review_stem'].values)\n",
    "#nos quedamos con el array de los valores de la califación\n",
    "Calification = dataset['Class'].values"
   ]
  },
  {
   "cell_type": "markdown",
   "metadata": {},
   "source": [
    "Vampos a vectorizar utilizando la función CountVectorizer y el TfidfVectorizer de ScikitLearn la cual creará un vector a partir de la frecuencia de cada palabra en el texto. En el proyecto 3 se planteó como una posibilidad de mejorael uso de TfidfVectorizer veremos si efectivamente tiene efectos signficativos"
   ]
  },
  {
   "cell_type": "code",
   "execution_count": 13,
   "metadata": {},
   "outputs": [
    {
     "name": "stdout",
     "output_type": "stream",
     "text": [
      "50 palabras mas usadas:  ['abu', 'abus', 'accept', 'account', 'actual', 'advanc', 'ago', 'ahrar', 'air', 'airbas', 'airport', 'airstrik', 'al', 'aleppo', 'allah', 'alli', 'also', 'alway', 'ambush', 'america', 'american', 'amp', 'anoth', 'anti', 'anyon', 'anyth', 'apost', 'arab', 'area', 'arm', 'armi', 'around', 'arrest', 'ask', 'assad', 'assault', 'attack', 'attempt', 'away', 'babi', 'back', 'bad', 'baghdad', 'barrack', 'base', 'battl', 'beauti', 'becom', 'bed', 'believ']\n"
     ]
    }
   ],
   "source": [
    "#TfidfVectorizer\n",
    "from sklearn.feature_extraction.text import TfidfVectorizer\n",
    "# Usaremos solo 5000 features\n",
    "max_features=500\n",
    "\n",
    "# Es decir que cada instancia tendrá 1000 features\n",
    "Tfidf_vec=TfidfVectorizer(max_features=max_features) \n",
    "\n",
    "#Le pasamos nuestra lista de palabras al objeto cou_vec\n",
    "matriz_reviews_Tfidf= Tfidf_vec.fit_transform(list_review_stem)\n",
    "# Tomamos las palabras\n",
    "all_words = Tfidf_vec.get_feature_names()\n",
    "# Vizualizamos 50 de las palabras mas usadas\n",
    "print(\"50 palabras mas usadas: \",all_words[0:50])"
   ]
  },
  {
   "cell_type": "markdown",
   "metadata": {},
   "source": [
    "## Modelos con TfidfVectorizer"
   ]
  },
  {
   "cell_type": "code",
   "execution_count": 14,
   "metadata": {},
   "outputs": [],
   "source": [
    "#pasamos de matriz a array la variable matriz_reviews\n",
    "x = matriz_reviews_Tfidf.toarray()\n",
    "y = Calification\n",
    "\n",
    "#Hacemos la separación en data entrenamiento y pruebas\n",
    "xtrain, xtest, ytrain, ytest = train_test_split(x,y,test_size=0.3,random_state=42,stratify=y)"
   ]
  },
  {
   "cell_type": "code",
   "execution_count": 15,
   "metadata": {},
   "outputs": [
    {
     "name": "stdout",
     "output_type": "stream",
     "text": [
      "F1 Score NB Train=  0.8699726868055913\n",
      "F1 Score NB TEST=  0.8651729559748428\n"
     ]
    }
   ],
   "source": [
    "#Aplicamos un modelo de bayes simple\n",
    "\n",
    "nb = GaussianNB()\n",
    "nb.fit(xtrain,ytrain)\n",
    "y_predTrain=nb.predict(xtrain)\n",
    "y_pred=nb.predict(xtest)\n",
    "#---------Train----------\n",
    "F1_Score_NBTrain= f1_score(ytrain, y_predTrain, average='macro')\n",
    "print(\"F1 Score NB Train= \",F1_Score_NBTrain)\n",
    "#---------Test----------\n",
    "F1_Score_NBTEST= f1_score(ytest, y_pred, average='macro')\n",
    "print(\"F1 Score NB TEST= \",F1_Score_NBTEST)\n"
   ]
  },
  {
   "cell_type": "code",
   "execution_count": 16,
   "metadata": {},
   "outputs": [
    {
     "name": "stdout",
     "output_type": "stream",
     "text": [
      "F1 Score NB Train=  0.9706055899910178\n",
      "F1 Score NB TEST=  0.8845661387282295\n"
     ]
    }
   ],
   "source": [
    "#Aplicamos un modelo de Random forest con parámetros por defecto\n",
    "\n",
    "rf = RandomForestClassifier(n_estimators = 10, random_state=42)\n",
    "rf.fit(xtrain,ytrain)\n",
    "y_predTrain=rf.predict(xtrain)\n",
    "y_pred=rf.predict(xtest)\n",
    "#---------Train----------\n",
    "F1_Score_forestTrain= f1_score(ytrain, y_predTrain, average='macro')\n",
    "print(\"F1 Score NB Train= \",F1_Score_forestTrain)\n",
    "#---------Test----------\n",
    "F1_Score_forestTEST= f1_score(ytest, y_pred, average='macro')\n",
    "print(\"F1 Score NB TEST= \",F1_Score_forestTEST)"
   ]
  },
  {
   "cell_type": "code",
   "execution_count": 17,
   "metadata": {},
   "outputs": [
    {
     "name": "stdout",
     "output_type": "stream",
     "text": [
      "F1 Score NB Train=  0.9108696048631311\n",
      "F1 Score NB TEST=  0.8937899188662821\n"
     ]
    }
   ],
   "source": [
    "#Aplicamos un modelo de svc con parámetros por defecto\n",
    "# Notar que en vez de utilizar SVC, vamos a usar LinearSVC. \n",
    "# esta función es MUCHO mas rapida que la tradicional SVC.\n",
    "\n",
    "svc = LinearSVC(C = 1,max_iter=1000)\n",
    "svc.fit(xtrain,ytrain)\n",
    "y_predTrain=svc.predict(xtrain)\n",
    "y_pred=svc.predict(xtest)\n",
    "#---------Train----------\n",
    "F1_Score_svcTrain= f1_score(ytrain, y_predTrain, average='macro')\n",
    "print(\"F1 Score NB Train= \",F1_Score_svcTrain)\n",
    "#---------Test----------\n",
    "F1_Score_svcTEST= f1_score(ytest, y_pred, average='macro')\n",
    "print(\"F1 Score NB TEST= \",F1_Score_svcTEST)"
   ]
  },
  {
   "cell_type": "markdown",
   "metadata": {},
   "source": [
    "## Resultados Countvectorizer vs TfIdf\n"
   ]
  },
  {
   "cell_type": "code",
   "execution_count": 18,
   "metadata": {},
   "outputs": [
    {
     "data": {
      "image/png": "[encoded data removed]",
      "text/plain": [
       "<Figure size 504x504 with 2 Axes>"
      ]
     },
     "metadata": {},
     "output_type": "display_data"
    }
   ],
   "source": [
    "\n",
    "\n",
    "def confusion(ytest,y_pred):\n",
    "    names=[\"0\",\"1\"]\n",
    "    cm=confusion_matrix(ytest,y_pred)\n",
    "    f,ax=plt.subplots(figsize=(7,7))\n",
    "    sns.heatmap(cm,annot=True,linewidth=.5,linecolor=\"r\",fmt=\".0f\",ax=ax)\n",
    "    plt.xlabel(\"y_pred\")\n",
    "    plt.ylabel(\"ytrue\")\n",
    "    ax.set_xticklabels(names)\n",
    "    ax.set_yticklabels(names)\n",
    "    plt.show()\n",
    "\n",
    "    return\n",
    "confusion(ytest,y_pred)\n"
   ]
  },
  {
   "cell_type": "markdown",
   "metadata": {},
   "source": [
    "Imprimimos la matriz de confusión y vemos que tiene una diagonal con valores altos lo que significa que logra predecir buena cantidad de los valores reales, pero adicional vemos que los valores extemos (1,5) son los que presentan mejor comportamiento. Cómo era de esperarse alrededor del 3 hay gran variabilidad porque puede que el modelo lo tome como un 2 o un 4 y no como el 3."
   ]
  },
  {
   "cell_type": "markdown",
   "metadata": {},
   "source": [
    "Conclusiones"
   ]
  },
  {
   "cell_type": "markdown",
   "metadata": {},
   "source": [
    "Con modelos de clasificación Se intentó evaluar 3 modelos básicos bayes(benchmark), random forest y SVC. se vió que el random forest y el SVC lograron mejores resultados que el modelo benchmark era de esperarse ya que son modelos más complejos. Entre SVC y random forest se elige el SVC ya que se ejecutó más rápido y además presentó mejores resultados de f1score que fue la métrica para la evaluación de los modelos"
   ]
  },
  {
   "cell_type": "markdown",
   "metadata": {},
   "source": [
    "Como conclusión tanto con un modelo de clasificación como con un modelo de regresión se pudo crear un modelo de una máquina de soporte vectorial que puede decir el número de estrellas que puede tener un comentario a partir del titulo y el body del review, pero arrojó resultados más optimos el modelo de regresión."
   ]
  },
  {
   "cell_type": "markdown",
   "metadata": {},
   "source": [
    "El modelo de regresión tuvo un mejor comportamiento que el modelo de clasificación ya que aqui importa el orden de los registro y en la clasificación no, además el error que se obtuvo fue de aproximadamente 1 en el RMSE lo cual dice que es muy poco probable que una review calificada en 1 el modelo de una predicción de 5. lo cual también se puede observar en la matriz de confusión anterior"
   ]
  },
  {
   "cell_type": "markdown",
   "metadata": {},
   "source": [
    "Como trabajo a futuro se podría pensar en crear modelos con redes neuronales que la literatura menciona como los modelos más indicados para el trabajo con NLP"
   ]
  },
  {
   "cell_type": "markdown",
   "metadata": {},
   "source": [
    "El proyecto puede verse también en mi github https://github.com/juanbetancur96/AmazonNLP\n"
   ]
  },
  {
   "cell_type": "code",
   "execution_count": 19,
   "metadata": {},
   "outputs": [
    {
     "name": "stdout",
     "output_type": "stream",
     "text": [
      "[0 1 1 ... 0 1 0]\n"
     ]
    }
   ],
   "source": [
    "print(y_pred)"
   ]
  },
  {
   "cell_type": "code",
   "execution_count": 20,
   "metadata": {},
   "outputs": [
    {
     "ename": "TypeError",
     "evalue": "'str' object is not callable",
     "output_type": "error",
     "traceback": [
      "\u001b[1;31m---------------------------------------------------------------------------\u001b[0m",
      "\u001b[1;31mTypeError\u001b[0m                                 Traceback (most recent call last)",
      "\u001b[1;32m~\\AppData\\Local\\Temp/ipykernel_20864/507756663.py\u001b[0m in \u001b[0;36m<module>\u001b[1;34m\u001b[0m\n\u001b[0;32m      1\u001b[0m \u001b[0mLines\u001b[0m \u001b[1;33m=\u001b[0m \u001b[1;34m\"We will destroy you in our kuffar, you should wait for our revenge\"\u001b[0m\u001b[1;33m\u001b[0m\u001b[1;33m\u001b[0m\u001b[0m\n\u001b[1;32m----> 2\u001b[1;33m \u001b[0mTfidf_vec\u001b[0m\u001b[1;33m.\u001b[0m\u001b[0minput\u001b[0m\u001b[1;33m(\u001b[0m\u001b[0mLines\u001b[0m\u001b[1;33m)\u001b[0m\u001b[1;33m\u001b[0m\u001b[1;33m\u001b[0m\u001b[0m\n\u001b[0m",
      "\u001b[1;31mTypeError\u001b[0m: 'str' object is not callable"
     ]
    }
   ],
   "source": [
    "Lines = \"We will destroy you in our kuffar, you should wait for our revenge\"\n",
    "Tfidf_vec.input(Lines)"
   ]
  },
  {
   "cell_type": "code",
   "execution_count": null,
   "metadata": {},
   "outputs": [],
   "source": [
    "\n",
    "\n",
    "print(type(Tfidf_vec))\n",
    "analyzer= Tfidf_vec.build_tokenizer()\n",
    "y=analyzer(\"We will destroy you in our kuffar, you should wait for our revenge\")\n",
    "print(y)\n",
    "Tfidf_vec.input(y)\n",
    "#docs = Tfidf_vec(Lines)\n",
    "#docs = Tfidf_vec.norm(Lines)\n",
    "#print(docs)\n",
    "#type (docs)\n",
    "#scores, _ = svc.predict(docs)\n",
    "#Prob score for both classes (Good/bad) \n"
   ]
  },
  {
   "cell_type": "code",
   "execution_count": 23,
   "metadata": {},
   "outputs": [
    {
     "name": "stdout",
     "output_type": "stream",
     "text": [
      "0\n",
      "1\n",
      "1\n",
      "0\n",
      "0\n",
      "1\n",
      "1\n",
      "0\n",
      "0\n",
      "1\n",
      "0\n",
      "0\n",
      "1\n",
      "0\n",
      "0\n",
      "1\n",
      "0\n",
      "0\n",
      "1\n",
      "1\n",
      "0\n",
      "1\n",
      "1\n"
     ]
    }
   ],
   "source": [
    "dataset2 = pd.read_excel(r'C:\\Users\\User\\Desktop\\UNIR\\Ciberseguridad\\Trabajo Fin master\\data\\Prueba.xlsx')\n",
    "import re\n",
    "# Importamos y definimos la función que nos permite Stemmizar de nltk y definimos el stemmer\n",
    "from nltk.stem import SnowballStemmer\n",
    "stemmer = SnowballStemmer('english')\n",
    "# Recorremos los reviews y le vamos aplicando la Normalizacion y luega el Stemming a cada uno\n",
    "review_list2=[]\n",
    "for review in dataset2.Tweet:\n",
    "     # Pasamos todo a minúsculas\n",
    "    review=review.lower()\n",
    "    # Filtrado de menciones de otros perfiles\n",
    "    review=re.sub('(?:((?<=[\\s\\W])|^)[#](\\w+|[^#]|$)|((?<=[\\s\\W])|^)[@]([a-zA-Z0-9_]+|$))', '',str(review)) \n",
    "    review=re.sub(r'\\w+:\\/{2}[\\d\\w-]+(\\.[\\d\\w-]+)*(?:(?:\\/[^\\s/]*))*', '',str(review)) #Filtrado de enlaces\n",
    "    revire=re.sub('\\s{2}.*', '',str(review)) # filtrado de espacioes en blanco\n",
    "    review=re.sub(\"[^a-z]\",\" \",str(review)) #Filtrado de caracteres especiales\n",
    "    # Tokenizamos para separar las palabras del titular\n",
    "    review=nltk.word_tokenize(review)\n",
    "    # Sacamos las Stopwords\n",
    "    review = [palabra for palabra in review if not palabra in stopwords]\n",
    "    ReviewSinStemmer= review\n",
    "    ## Hasta acá Normalizamos, ahora a stemmizar\n",
    "    # Aplicamos la funcion para buscar la raiz de las palabras\n",
    "    review=[(stemmer.stem(palabra)) for palabra in review]\n",
    "    # Por ultimo volvemos a unir el tweet\n",
    "    review=\" \".join(review)\n",
    "    ReviewSinStemmer= \" \".join(ReviewSinStemmer) \n",
    "    # Vamos armando una lista con todos los titulares\n",
    "    review_list2.append(review)\n",
    "#print(review_list2[:])\n",
    "\n",
    "dataset2[\"review_stem\"] = review_list2\n",
    "listica = list(dataset2['review_stem'].values)\n",
    "listica2= Tfidf_vec.transform(listica)\n",
    "Prueba=nb.predict(listica2.toarray())\n",
    "for i in Prueba:\n",
    "    print (Prueba[i])"
   ]
  },
  {
   "cell_type": "code",
   "execution_count": null,
   "metadata": {},
   "outputs": [],
   "source": []
  },
  {
   "cell_type": "code",
   "execution_count": null,
   "metadata": {},
   "outputs": [],
   "source": []
  }
 ],
 "metadata": {
  "colab": {
   "collapsed_sections": [],
   "name": "DS_Proyecto_03_NLP.ipynb",
   "provenance": []
  },
  "kernelspec": {
   "display_name": "Python 3 (ipykernel)",
   "language": "python",
   "name": "python3"
  },
  "language_info": {
   "codemirror_mode": {
    "name": "ipython",
    "version": 3
   },
   "file_extension": ".py",
   "mimetype": "text/x-python",
   "name": "python",
   "nbconvert_exporter": "python",
   "pygments_lexer": "ipython3",
   "version": "3.9.7"
  }
 },
 "nbformat": 4,
 "nbformat_minor": 1
}
